{
 "cells": [
  {
   "cell_type": "markdown",
   "metadata": {},
   "source": [
    "# Covid 19 detection using Machine Learning"
   ]
  },
  {
   "cell_type": "markdown",
   "metadata": {},
   "source": [
    "Import libraries"
   ]
  },
  {
   "cell_type": "code",
   "execution_count": 1,
   "metadata": {},
   "outputs": [],
   "source": [
    "import numpy as np\n",
    "import matplotlib.pyplot as plt\n",
    "import pandas as pd"
   ]
  },
  {
   "cell_type": "markdown",
   "metadata": {},
   "source": [
    "importing datasets"
   ]
  },
  {
   "cell_type": "code",
   "execution_count": 2,
   "metadata": {},
   "outputs": [
    {
     "name": "stderr",
     "output_type": "stream",
     "text": [
      "C:\\Users\\Lenovo\\Anaconda3\\lib\\site-packages\\IPython\\core\\interactiveshell.py:3058: DtypeWarning: Columns (6) have mixed types. Specify dtype option on import or set low_memory=False.\n",
      "  interactivity=interactivity, compiler=compiler, result=result)\n"
     ]
    }
   ],
   "source": [
    "dataset = pd.read_csv(\"corona_dataset.csv\")\n"
   ]
  },
  {
   "cell_type": "markdown",
   "metadata": {},
   "source": [
    "Count the number of missing values\n",
    "age > 60 : 443929\n",
    "gender : 86543"
   ]
  },
  {
   "cell_type": "code",
   "execution_count": 3,
   "metadata": {},
   "outputs": [],
   "source": [
    "# num_missing = (pd.isnull(dataset)).sum()\n",
    "# print(num_missing)\n",
    "# print(dataset)"
   ]
  },
  {
   "cell_type": "code",
   "execution_count": 4,
   "metadata": {},
   "outputs": [
    {
     "name": "stdout",
     "output_type": "stream",
     "text": [
      "(187821, 10)\n",
      "(8335, 10)\n",
      "(4273, 10)\n"
     ]
    }
   ],
   "source": [
    "dataset=dataset.dropna(subset=['age_60_and_above','gender'])\n",
    "print(dataset.shape)\n",
    "\n",
    "dataset.drop(dataset.index[dataset['corona_result'] == \"other\"], inplace = True)\n",
    "\n",
    "\n",
    "dataset.drop(dataset.index[dataset['test_indication']==\"Other\"], inplace = True)\n",
    "\n",
    "#head_ache_analysis\n",
    "# df_h = dataset.loc[dataset['head_ache']!=1]\n",
    "# print(df_h.shape)\n",
    "# df8=df_h.loc[df_h['corona_result']!=\"Positive\"]\n",
    "# print(df8.shape)\n",
    "\n",
    "#shortness_of_breath_analysis\n",
    "# df_st = dataset.loc[dataset['shortness_of_breath']==1]\n",
    "# print(df_st.shape)\n",
    "# df7=df_st.loc[df_st['corona_result']!=\"Positive\"]\n",
    "# print(df7.shape)\n",
    "\n",
    "#sore_throat_analysis\n",
    "# df_st = dataset.loc[dataset['sore_throat']!=1]\n",
    "# print(df_st.shape)\n",
    "# df6=df_st.loc[df_st['corona_result']!=\"Positive\"]\n",
    "# print(df6.shape)\n",
    "\n",
    "#fever_analysis\n",
    "# df_f = dataset.loc[dataset['fever']!=1]\n",
    "# print(df_f.shape)\n",
    "# df5=df_f.loc[df_f['corona_result']!=\"Positive\"]\n",
    "# print(df5.shape)\n",
    "\n",
    "#cough_analysis\n",
    "df_c = dataset.loc[dataset['cough']!=1]\n",
    "print(df_c.shape)\n",
    "df4=df_c.loc[df_c['corona_result']==\"Positive\"]\n",
    "print(df4.shape)\n",
    "\n",
    "\n",
    "#age>60_analysis\n",
    "# df_a = dataset.loc[dataset['age_60_and_above']!=\"Yes\"]\n",
    "# print(df_a.shape)\n",
    "# df3=df_a.loc[df_a['corona_result']==\"Positive\"]\n",
    "# print(df3.shape)\n",
    "\n",
    "\n",
    "# #gender_analysis\n",
    "# df_g = dataset.loc[dataset['age_60_and_above']!=\"Yes\"]\n",
    "# print(df_g.shape)\n",
    "# df2=df_g.loc[df_g['corona_result']==\"Positive\"]\n",
    "# print(df2.shape)\n",
    "\n",
    "\n",
    "# #gender_analysis\n",
    "# df_g = dataset.loc[dataset['gender' ]!=\"female\"]\n",
    "# print(df_g.shape)\n",
    "# df2=df_g.loc[df_g['corona_result']==\"Positive\"]\n",
    "# print(df2.shape)\n",
    "\n",
    "# #Test_indication_analysis\n",
    "# df_cc = dataset.loc[dataset['test_indication' ]!=\"Contact with confirmed\"]\n",
    "# print(df_cc.shape)\n",
    "# df1=df_cc.loc[df_cc['corona_result']==\"Positive\"]\n",
    "# print(df1.shape)"
   ]
  },
  {
   "cell_type": "markdown",
   "metadata": {},
   "source": [
    "Replacing missing data with other"
   ]
  },
  {
   "cell_type": "code",
   "execution_count": 5,
   "metadata": {
    "scrolled": true
   },
   "outputs": [
    {
     "name": "stdout",
     "output_type": "stream",
     "text": [
      "test_date              0\n",
      "cough                  0\n",
      "fever                  0\n",
      "sore_throat            0\n",
      "shortness_of_breath    0\n",
      "head_ache              0\n",
      "age_60_and_above       0\n",
      "gender                 0\n",
      "test_indication        0\n",
      "corona_result          0\n",
      "dtype: int64\n",
      "         test_date  cough  fever  sore_throat  shortness_of_breath  head_ache  \\\n",
      "0       22-06-2020      1      0            0                    0          0   \n",
      "9       22-06-2020      1      1            0                    0          0   \n",
      "10      22-06-2020      0      0            0                    0          0   \n",
      "14      22-06-2020      1      0            0                    0          0   \n",
      "17      22-06-2020      1      0            0                    0          0   \n",
      "...            ...    ...    ...          ...                  ...        ...   \n",
      "623814  20-03-2020      1      1            0                    0          0   \n",
      "623819  20-03-2020      0      0            0                    0          0   \n",
      "623843  20-03-2020      1      0            1                    0          0   \n",
      "623846  20-03-2020      0      1            0                    0          0   \n",
      "623847  20-03-2020      0      0            0                    0          0   \n",
      "\n",
      "       age_60_and_above  gender         test_indication corona_result  \n",
      "0                    No    male                  Abroad      Negative  \n",
      "9                    No  female                  Abroad      Negative  \n",
      "10                   No  female                  Abroad      Negative  \n",
      "14                   No    male  Contact with confirmed      Negative  \n",
      "17                   No    male                  Abroad      Negative  \n",
      "...                 ...     ...                     ...           ...  \n",
      "623814               No  female                  Abroad      Negative  \n",
      "623819               No  female  Contact with confirmed      Positive  \n",
      "623843               No  female                  Abroad      Negative  \n",
      "623846               No    male                  Abroad      Positive  \n",
      "623847               No    male  Contact with confirmed      Positive  \n",
      "\n",
      "[24798 rows x 10 columns]\n"
     ]
    }
   ],
   "source": [
    "num_missing = (pd.isnull(dataset)).sum()\n",
    "print(num_missing)\n",
    "print(dataset)"
   ]
  },
  {
   "cell_type": "markdown",
   "metadata": {},
   "source": [
    "Encoding categorical variables"
   ]
  },
  {
   "cell_type": "code",
   "execution_count": 6,
   "metadata": {},
   "outputs": [],
   "source": [
    "from sklearn.preprocessing import LabelEncoder\n",
    "le = LabelEncoder()\n",
    "dataset=dataset.apply(le.fit_transform)"
   ]
  },
  {
   "cell_type": "code",
   "execution_count": 7,
   "metadata": {},
   "outputs": [],
   "source": [
    "X = dataset.iloc[:,1:-1]\n",
    "y = dataset.iloc[:,-1]"
   ]
  },
  {
   "cell_type": "code",
   "execution_count": 8,
   "metadata": {},
   "outputs": [
    {
     "name": "stdout",
     "output_type": "stream",
     "text": [
      "        cough  fever  sore_throat  shortness_of_breath  head_ache  \\\n",
      "0           1      0            0                    0          0   \n",
      "9           1      1            0                    0          0   \n",
      "10          0      0            0                    0          0   \n",
      "14          1      0            0                    0          0   \n",
      "17          1      0            0                    0          0   \n",
      "...       ...    ...          ...                  ...        ...   \n",
      "623814      1      1            0                    0          0   \n",
      "623819      0      0            0                    0          0   \n",
      "623843      1      0            1                    0          0   \n",
      "623846      0      1            0                    0          0   \n",
      "623847      0      0            0                    0          0   \n",
      "\n",
      "        age_60_and_above  gender  test_indication  \n",
      "0                      0       1                0  \n",
      "9                      0       0                0  \n",
      "10                     0       0                0  \n",
      "14                     0       1                1  \n",
      "17                     0       1                0  \n",
      "...                  ...     ...              ...  \n",
      "623814                 0       0                0  \n",
      "623819                 0       0                1  \n",
      "623843                 0       0                0  \n",
      "623846                 0       1                0  \n",
      "623847                 0       1                1  \n",
      "\n",
      "[24798 rows x 8 columns]\n",
      "0         0\n",
      "9         0\n",
      "10        0\n",
      "14        0\n",
      "17        0\n",
      "         ..\n",
      "623814    0\n",
      "623819    1\n",
      "623843    0\n",
      "623846    1\n",
      "623847    1\n",
      "Name: corona_result, Length: 24798, dtype: int32\n"
     ]
    }
   ],
   "source": [
    "print(X)\n",
    "print(y)"
   ]
  },
  {
   "cell_type": "markdown",
   "metadata": {},
   "source": [
    "Splitting the dataset into training and testing"
   ]
  },
  {
   "cell_type": "code",
   "execution_count": 9,
   "metadata": {},
   "outputs": [],
   "source": [
    "from sklearn.model_selection import train_test_split\n",
    "X_train, X_test, y_train, y_test = train_test_split(X,y,test_size=.25,random_state=0)"
   ]
  },
  {
   "cell_type": "code",
   "execution_count": null,
   "metadata": {},
   "outputs": [],
   "source": [
    "# print(X_train)\n",
    "# print(y_train)"
   ]
  },
  {
   "cell_type": "code",
   "execution_count": null,
   "metadata": {},
   "outputs": [],
   "source": [
    "# print(X_test)\n",
    "# print(y_test)"
   ]
  },
  {
   "cell_type": "markdown",
   "metadata": {},
   "source": [
    "selecting PCA"
   ]
  },
  {
   "cell_type": "code",
   "execution_count": null,
   "metadata": {},
   "outputs": [],
   "source": [
    "from sklearn.decomposition import PCA\n",
    "\n",
    "# Finding optimal number of components for dimensionality reduction\n",
    "pca = PCA(n_components=None)\n",
    "pca.fit_transform(X_train)\n",
    "feature_variance = pca.explained_variance_ratio_\n",
    "total_variance = np.cumsum(feature_variance)  # cumulative sum\n",
    "\n",
    "print('\\nFeature Variance:\\n')\n",
    "print(feature_variance)\n",
    "print('\\nCumulative Feature Variance:\\n')\n",
    "print(total_variance)\n",
    "\n",
    "plt.plot(total_variance)\n",
    "plt.title('PCA Components vs. Variance')\n",
    "plt.xlabel('Number of Components')\n",
    "plt.ylabel('Cumulative Variance')\n",
    "plt.show()\n",
    "#print(pd.DataFrame(pca.components_,columns=X_train.columns))"
   ]
  },
  {
   "cell_type": "code",
   "execution_count": null,
   "metadata": {},
   "outputs": [],
   "source": [
    "pca = PCA(n_components = 2)\n",
    "X_train = pca.fit_transform(X_train)\n",
    "X_test = pca.transform(X_test)"
   ]
  },
  {
   "cell_type": "markdown",
   "metadata": {},
   "source": [
    "Classification models"
   ]
  },
  {
   "cell_type": "code",
   "execution_count": null,
   "metadata": {},
   "outputs": [],
   "source": [
    "from sklearn.svm import SVC\n",
    "clfsvc = SVC(random_state = 0)\n",
    "\n",
    "from sklearn.ensemble import RandomForestClassifier\n",
    "clfrf = RandomForestClassifier(random_state = 0)\n",
    "\n",
    "from sklearn.neighbors import KNeighborsClassifier\n",
    "clfknn = KNeighborsClassifier(n_neighbors = 5)"
   ]
  },
  {
   "cell_type": "markdown",
   "metadata": {},
   "source": [
    "Finding best model and parameter using GridSearchCV "
   ]
  },
  {
   "cell_type": "code",
   "execution_count": null,
   "metadata": {},
   "outputs": [],
   "source": [
    "from sklearn.model_selection import GridSearchCV\n",
    "model_param ={'svm':{'model': clfsvc, 'params':[{'C': [0.25, 0.5, 0.75, 1], 'kernel': ['rbf','linear'],'gamma': [0.1, 0.2, 0.3, 0.4, 0.5, 0.6, 0.7, 0.8, 0.9]}]},\n",
    "              'random_forest': {'model': clfrf, 'params': [{'n_estimators': [1,5,10]}]},\n",
    "              'K neighbor': {'model': clfknn, 'params': [{'n_neighbors': [5,6,7,8,9,10], 'weights': ['uniform','distance'], 'algorithm' : ['auto','ball_tree', 'kd_tree', 'brute'], 'leaf_size' : [20,30,40], 'p':[1,2]}]}\n",
    "             }\n",
    "scores = []\n",
    "for model_name, mp in model_param.items():\n",
    "    gds = GridSearchCV(mp['model'], mp['params'], cv=5, return_train_score=False)\n",
    "    gds.fit(X_train, y_train)\n",
    "    scores.append({\n",
    "        'model' : model_name,\n",
    "        'best score' : gds.best_score_,\n",
    "        'best param' : gds.best_params_\n",
    "        \n",
    "    })\n"
   ]
  },
  {
   "cell_type": "code",
   "execution_count": null,
   "metadata": {},
   "outputs": [],
   "source": [
    "#print(scores)\n",
    "df = pd.DataFrame(scores)\n",
    "print(df)"
   ]
  },
  {
   "cell_type": "markdown",
   "metadata": {},
   "source": [
    "training the data with the best model"
   ]
  },
  {
   "cell_type": "code",
   "execution_count": null,
   "metadata": {},
   "outputs": [],
   "source": [
    "clfsvc.fit(X_train, y_train)"
   ]
  },
  {
   "cell_type": "markdown",
   "metadata": {},
   "source": [
    "Results from Confusion metrics"
   ]
  },
  {
   "cell_type": "code",
   "execution_count": null,
   "metadata": {},
   "outputs": [],
   "source": [
    "from sklearn.metrics import confusion_matrix, accuracy_score\n",
    "y_pred = clfsvc.predict(X_test)\n",
    "cm = confusion_matrix(y_test, y_pred)\n",
    "print(cm)\n",
    "accuracy_score(y_test, y_pred)"
   ]
  },
  {
   "cell_type": "code",
   "execution_count": 38,
   "metadata": {},
   "outputs": [
    {
     "name": "stdout",
     "output_type": "stream",
     "text": [
      "\n",
      "Results of Support Vector Machine:\n",
      "accuracy :  0.8753225806451613\n",
      "Precision :  0.8741459729279271\n",
      "Recall :  0.8753225806451613\n",
      "F-measure :  0.8745878539168146\n",
      "\n",
      "Results of Random Forest:\n",
      "accuracy :  0.8725806451612903\n",
      "Precision :  0.8710938662933126\n",
      "Recall :  0.8725806451612903\n",
      "F-measure :  0.8715869292392517\n",
      "\n",
      "Results of Logistic Regression:\n",
      "accuracy :  0.8683870967741936\n",
      "Precision :  0.8663797188540721\n",
      "Recall :  0.8683870967741936\n",
      "F-measure :  0.8668401881936454\n",
      "\n",
      "Results of Decision Tree:\n",
      "accuracy :  0.8729032258064516\n",
      "Precision :  0.8714438670836118\n",
      "Recall :  0.8729032258064516\n",
      "F-measure :  0.8719333261534502\n",
      "\n",
      "Results of Gradient Boosting:\n",
      "accuracy :  0.8745161290322581\n",
      "Precision :  0.8730400473834165\n",
      "Recall :  0.8745161290322581\n",
      "F-measure :  0.873516432257954\n",
      "\n",
      "Results of XGBoost:\n",
      "accuracy :  0.8732258064516129\n",
      "Precision :  0.8717067126652754\n",
      "Recall :  0.8732258064516129\n",
      "F-measure :  0.872194492462446\n"
     ]
    }
   ],
   "source": [
    "from sklearn.metrics import accuracy_score, auc, roc_curve, f1_score, precision_score, recall_score,roc_auc_score\n",
    "from sklearn.linear_model import LogisticRegression\n",
    "from sklearn.tree import DecisionTreeClassifier\n",
    "from sklearn.svm import SVC\n",
    "from sklearn.ensemble import GradientBoostingClassifier\n",
    "from sklearn.ensemble import RandomForestClassifier\n",
    "from xgboost import XGBClassifier\n",
    "\n",
    "\n",
    "\n",
    "print(\"\\nResults of Support Vector Machine:\")\n",
    "modelsvc = SVC(random_state = 0, gamma =0.8, kernel ='rbf')\n",
    "modelsvc.fit(X_train, y_train)\n",
    "y_pred = modelsvc.predict(X_test)\n",
    "# print(roc_auc_score(y_pred, probs))       \n",
    "print(\"accuracy : \", accuracy_score(y_test, y_pred))\n",
    "print(\"Precision : \", precision_score(y_test, y_pred, average='weighted'))\n",
    "print(\"Recall : \", recall_score(y_test, y_pred, average='weighted'))\n",
    "print(\"F-measure : \", f1_score(y_test, y_pred, average='weighted'))\n",
    "\n",
    "print(\"\\nResults of Random Forest:\")\n",
    "modelrf = RandomForestClassifier(n_estimators=5, random_state = 0)\n",
    "modelrf.fit(X_train, y_train)\n",
    "y_pred = modelrf.predict(X_test)\n",
    "# print(roc_auc_score(y_pred, probs))       \n",
    "print(\"accuracy : \", accuracy_score(y_test, y_pred))\n",
    "print(\"Precision : \", precision_score(y_test, y_pred, average='weighted'))\n",
    "print(\"Recall : \", recall_score(y_test, y_pred, average='weighted'))\n",
    "print(\"F-measure : \", f1_score(y_test, y_pred, average='weighted'))\n",
    "\n",
    "print(\"\\nResults of Logistic Regression:\")\n",
    "modellr = LogisticRegression(solver='lbfgs')\n",
    "modellr.fit(X_train, y_train)\n",
    "y_pred = modellr.predict(X_test)\n",
    "# print(roc_auc_score(y_pred, probs))       \n",
    "print(\"accuracy : \", accuracy_score(y_test, y_pred))\n",
    "print(\"Precision : \", precision_score(y_test, y_pred, average='weighted'))\n",
    "print(\"Recall : \", recall_score(y_test, y_pred, average='weighted'))\n",
    "print(\"F-measure : \", f1_score(y_test, y_pred, average='weighted'))\n",
    "\n",
    "print(\"\\nResults of Decision Tree:\")\n",
    "modeldt = DecisionTreeClassifier()\n",
    "modeldt.fit(X_train, y_train)\n",
    "y_pred = modeldt.predict(X_test)\n",
    "# print(roc_auc_score(y_pred, probs))       \n",
    "print(\"accuracy : \", accuracy_score(y_test, y_pred))\n",
    "print(\"Precision : \", precision_score(y_test, y_pred, average='weighted'))\n",
    "print(\"Recall : \", recall_score(y_test, y_pred, average='weighted'))\n",
    "print(\"F-measure : \", f1_score(y_test, y_pred, average='weighted'))\n",
    "\n",
    "print(\"\\nResults of Gradient Boosting:\")\n",
    "modelgb = GradientBoostingClassifier(random_state = 0)\n",
    "modelgb.fit(X_train, y_train)\n",
    "y_pred = modelgb.predict(X_test)\n",
    "# print(roc_auc_score(y_pred, probs))       \n",
    "print(\"accuracy : \", accuracy_score(y_test, y_pred))\n",
    "print(\"Precision : \", precision_score(y_test, y_pred, average='weighted'))\n",
    "print(\"Recall : \", recall_score(y_test, y_pred, average='weighted'))\n",
    "print(\"F-measure : \", f1_score(y_test, y_pred, average='weighted'))\n",
    "\n",
    "\n",
    "print(\"\\nResults of XGBoost:\")\n",
    "modelxg = XGBClassifier()\n",
    "modelxg.fit(X_train, y_train)\n",
    "y_pred = modelxg.predict(X_test)\n",
    "# print(roc_auc_score(y_pred, probs))       \n",
    "print(\"accuracy : \", accuracy_score(y_test, y_pred))\n",
    "print(\"Precision : \", precision_score(y_test, y_pred, average='weighted'))\n",
    "print(\"Recall : \", recall_score(y_test, y_pred, average='weighted'))\n",
    "print(\"F-measure : \", f1_score(y_test, y_pred, average='weighted'))"
   ]
  },
  {
   "cell_type": "code",
   "execution_count": 41,
   "metadata": {},
   "outputs": [
    {
     "name": "stdout",
     "output_type": "stream",
     "text": [
      "Index(['test_date', 'cough', 'fever', 'sore_throat', 'shortness_of_breath',\n",
      "       'head_ache', 'age_60_and_above', 'gender', 'test_indication',\n",
      "       'corona_result'],\n",
      "      dtype='object')\n",
      "Num Features: 3\n",
      "Selected Features: [False False False  True  True False False  True]\n",
      "Feature Ranking: [3 5 2 1 1 4 6 1]\n",
      "\n",
      "Index(['test_date', 'cough', 'fever', 'sore_throat', 'shortness_of_breath',\n",
      "       'head_ache', 'age_60_and_above', 'gender', 'test_indication',\n",
      "       'corona_result'],\n",
      "      dtype='object')\n",
      "Num Features: 3\n",
      "Selected Features: [ True False False False  True False False  True]\n",
      "Feature Ranking: [1 4 3 2 1 5 6 1]\n",
      "\n",
      "Index(['test_date', 'cough', 'fever', 'sore_throat', 'shortness_of_breath',\n",
      "       'head_ache', 'age_60_and_above', 'gender', 'test_indication',\n",
      "       'corona_result'],\n",
      "      dtype='object')\n",
      "Num Features: 3\n",
      "Selected Features: [ True False False False  True False False  True]\n",
      "Feature Ranking: [1 4 2 3 1 5 6 1]\n",
      "\n",
      "Index(['test_date', 'cough', 'fever', 'sore_throat', 'shortness_of_breath',\n",
      "       'head_ache', 'age_60_and_above', 'gender', 'test_indication',\n",
      "       'corona_result'],\n",
      "      dtype='object')\n",
      "Num Features: 3\n",
      "Selected Features: [ True False False False  True False False  True]\n",
      "Feature Ranking: [1 4 2 3 1 5 6 1]\n",
      "\n",
      "Index(['test_date', 'cough', 'fever', 'sore_throat', 'shortness_of_breath',\n",
      "       'head_ache', 'age_60_and_above', 'gender', 'test_indication',\n",
      "       'corona_result'],\n",
      "      dtype='object')\n",
      "Num Features: 3\n",
      "Selected Features: [ True False False False  True False False  True]\n",
      "Feature Ranking: [1 4 2 3 1 5 6 1]\n",
      "\n"
     ]
    }
   ],
   "source": [
    "# Feature Extraction with RFE\n",
    "\n",
    "from sklearn.feature_selection import RFE\n",
    "names = ['test_date', 'cough', 'fever', 'sore_throat', 'shortness_of_breath',\n",
    "       'head_ache', 'age_60_and_above', 'gender', 'test_indication',\n",
    "       'corona_result']\n",
    "array = dataset.values\n",
    "X_sel = array[:,1:9]\n",
    "Y_sel = array[:,9]\n",
    "# feature extraction of SVC\n",
    "# rfe = RFE(modelsvc, 3)\n",
    "# fit = rfe.fit(X_sel, Y_sel)\n",
    "# print(dataset.columns)\n",
    "# print(\"Num Features: %d\" % fit.n_features_)\n",
    "# print(\"Selected Features: %s\" % fit.support_)\n",
    "# print(\"Feature Ranking: %s\\n\" % fit.ranking_)\n",
    "\n",
    "# feature extraction of Logistic Reg\n",
    "rfe = RFE(modellr, 3)\n",
    "fit = rfe.fit(X_sel, Y_sel)\n",
    "print(dataset.columns)\n",
    "print(\"Num Features: %d\" % fit.n_features_)\n",
    "print(\"Selected Features: %s\" % fit.support_)\n",
    "print(\"Feature Ranking: %s\\n\" % fit.ranking_)\n",
    "\n",
    "# feature extraction of decision tree\n",
    "rfe = RFE(modeldt, 3)\n",
    "fit = rfe.fit(X_sel, Y_sel)\n",
    "print(dataset.columns)\n",
    "print(\"Num Features: %d\" % fit.n_features_)\n",
    "print(\"Selected Features: %s\" % fit.support_)\n",
    "print(\"Feature Ranking: %s\\n\" % fit.ranking_)\n",
    "\n",
    "# feature extraction of Random forest\n",
    "rfe = RFE(modelrf, 3)\n",
    "fit = rfe.fit(X_sel, Y_sel)\n",
    "print(dataset.columns)\n",
    "print(\"Num Features: %d\" % fit.n_features_)\n",
    "print(\"Selected Features: %s\" % fit.support_)\n",
    "print(\"Feature Ranking: %s\\n\" % fit.ranking_)\n",
    "\n",
    "# feature extraction of Gradient Boosting\n",
    "rfe = RFE(modelgb, 3)\n",
    "fit = rfe.fit(X_sel, Y_sel)\n",
    "print(dataset.columns)\n",
    "print(\"Num Features: %d\" % fit.n_features_)\n",
    "print(\"Selected Features: %s\" % fit.support_)\n",
    "print(\"Feature Ranking: %s\\n\" % fit.ranking_)\n",
    "\n",
    "# feature extraction of XGBoost\n",
    "rfe = RFE(modelxg, 3)\n",
    "fit = rfe.fit(X_sel, Y_sel)\n",
    "print(dataset.columns)\n",
    "print(\"Num Features: %d\" % fit.n_features_)\n",
    "print(\"Selected Features: %s\" % fit.support_)\n",
    "print(\"Feature Ranking: %s\\n\" % fit.ranking_)"
   ]
  },
  {
   "cell_type": "code",
   "execution_count": null,
   "metadata": {},
   "outputs": [],
   "source": []
  },
  {
   "cell_type": "code",
   "execution_count": null,
   "metadata": {},
   "outputs": [],
   "source": []
  },
  {
   "cell_type": "code",
   "execution_count": null,
   "metadata": {},
   "outputs": [],
   "source": []
  }
 ],
 "metadata": {
  "kernelspec": {
   "display_name": "Python 3",
   "language": "python",
   "name": "python3"
  },
  "language_info": {
   "codemirror_mode": {
    "name": "ipython",
    "version": 3
   },
   "file_extension": ".py",
   "mimetype": "text/x-python",
   "name": "python",
   "nbconvert_exporter": "python",
   "pygments_lexer": "ipython3",
   "version": "3.6.10"
  }
 },
 "nbformat": 4,
 "nbformat_minor": 2
}
